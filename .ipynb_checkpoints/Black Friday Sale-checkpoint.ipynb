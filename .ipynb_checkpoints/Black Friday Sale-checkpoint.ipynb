{
 "cells": [
  {
   "cell_type": "code",
   "execution_count": 1,
   "id": "17c82e89-30c7-43fd-9d73-c2002ecf638a",
   "metadata": {},
   "outputs": [],
   "source": [
    "import pandas as pd\n",
    "import numpy as np"
   ]
  },
  {
   "cell_type": "code",
   "execution_count": 18,
   "id": "596ac776-48fe-40d8-b308-5e41b94f0c82",
   "metadata": {},
   "outputs": [],
   "source": [
    "user_data = pd.read_csv(\"train.csv\")"
   ]
  },
  {
   "cell_type": "code",
   "execution_count": 49,
   "id": "6f08ca24-1394-4c06-b80a-3889ad7e708b",
   "metadata": {},
   "outputs": [],
   "source": [
    "occupations = user_data['Occupation'].unique()\n",
    "products = user_data['Product_ID'].unique()\n",
    "product_category_1 = user_data['Product_Category_1'].unique()\n",
    "n_products = products.shape[0]"
   ]
  },
  {
   "cell_type": "code",
   "execution_count": null,
   "id": "55ac0fcf-717b-476f-879f-297e06599aeb",
   "metadata": {},
   "outputs": [],
   "source": []
  }
 ],
 "metadata": {
  "kernelspec": {
   "display_name": "Python 3 (ipykernel)",
   "language": "python",
   "name": "python3"
  },
  "language_info": {
   "codemirror_mode": {
    "name": "ipython",
    "version": 3
   },
   "file_extension": ".py",
   "mimetype": "text/x-python",
   "name": "python",
   "nbconvert_exporter": "python",
   "pygments_lexer": "ipython3",
   "version": "3.12.2"
  }
 },
 "nbformat": 4,
 "nbformat_minor": 5
}
